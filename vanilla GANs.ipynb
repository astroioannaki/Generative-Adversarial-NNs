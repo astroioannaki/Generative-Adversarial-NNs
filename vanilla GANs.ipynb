{
 "cells": [
  {
   "cell_type": "markdown",
   "metadata": {},
   "source": [
    "### GANs for data augmentation: vanilla GANs\n",
    "In this series of notebooks we try different types of GANs for data augmentation. This notebook is dedicated to vanilla GANs, but in the same repository you can find different notebooks for Deep Convolutional GANs (DCGANs), Conditional GANs (CGANs), Auxiliary Classifier GANs (ACGANs) and Prescribed GANs (PresGANs). We use the Fashion MNIST dataset which contains 60,000 grayscale images of size 28x28, with 10 different classes of clothing and accessory items."
   ]
  },
  {
   "cell_type": "code",
   "execution_count": 1,
   "metadata": {},
   "outputs": [
    {
     "name": "stderr",
     "output_type": "stream",
     "text": [
      "Using TensorFlow backend.\n"
     ]
    }
   ],
   "source": [
    "import tensorflow as tf\n",
    "from tensorflow.keras.optimizers import Adam\n",
    "from keras.datasets import mnist\n",
    "from keras.layers import Input, Dense, Reshape, Flatten, Dropout\n",
    "from keras.layers import BatchNormalization, Activation\n",
    "from keras.layers.advanced_activations import LeakyReLU\n",
    "from keras.models import Sequential, Model\n",
    "import matplotlib.pyplot as plt\n",
    "from scipy.interpolate import interp1d\n",
    "import sys\n",
    "import numpy as np\n",
    "import keras\n",
    "import pandas as pd\n",
    "from PIL import Image\n",
    "import warnings\n",
    "warnings.filterwarnings('ignore')"
   ]
  },
  {
   "cell_type": "code",
   "execution_count": 2,
   "metadata": {},
   "outputs": [],
   "source": [
    "def load_fashion_mnist(input_rows, input_cols, path='fashion-mnist_train.csv'):\n",
    "    #read the csv data\n",
    "    df = pd.read_csv(path)\n",
    "            \n",
    "    #extract the images\n",
    "    X_train = df.drop(columns = ['label']).values\n",
    "    X_train = X_train.reshape(X_train.shape[0], input_rows, input_cols)\n",
    "            \n",
    "    #extract the labels\n",
    "    y_train = df['label'].values\n",
    "\n",
    "    return X_train, y_train\n",
    "        \n",
    "def save_gif_PIL(outfile, files, fps=5, loop=0):\n",
    "    \"Helper function for saving GIFs\"\n",
    "    imgs = [Image.open(file) for file in files]\n",
    "    imgs[0].save(fp=outfile, format='GIF', append_images=imgs[1:], \n",
    "                 save_all=True, duration=int(1000/fps), loop=loop)\n",
    "    \n",
    "def plot_gan_losses(g_loss, d_loss):\n",
    "    \"Plot generator and discriminator loss over each epoch\"\n",
    "    plt.plot(g_loss)\n",
    "    plt.plot(d_loss)\n",
    "    plt.title('GANs Losses')\n",
    "    plt.ylabel('')\n",
    "    plt.xlabel('epoch')\n",
    "    plt.legend(['Generator', 'Discriminator'], loc='upper left')\n",
    "    plt.show()"
   ]
  },
  {
   "cell_type": "code",
   "execution_count": 3,
   "metadata": {},
   "outputs": [],
   "source": [
    "class GAN():\n",
    "    def __init__(self):\n",
    "        self.img_rows = 28           # fashion MNIST images shape 28 x 28\n",
    "        self.img_cols = 28\n",
    "        self.channels = 1            # Grayscale images\n",
    "        self.img_shape = (self.img_rows, self.img_cols, self.channels)\n",
    "        self.latent_dim = 100        # latent dimension\n",
    "        \n",
    "        optimizer = Adam(5e-4, 0.05) # (learning rate, weight decay)     \n",
    "        \n",
    "        self.discriminator = self.build_discriminator()\n",
    "        self.discriminator.compile(loss='binary_crossentropy',\n",
    "            optimizer=optimizer,\n",
    "            metrics=['accuracy'])        \n",
    "        \n",
    "        self.generator = self.build_generator()\n",
    "        z = Input(shape=(self.latent_dim,))\n",
    "        img = self.generator(z)\n",
    "        self.discriminator.trainable = False\n",
    "        validity = self.discriminator(img)\n",
    "        self.combined = Model(z, validity)\n",
    "        self.combined.compile(loss='binary_crossentropy', optimizer=optimizer)\n",
    "        \n",
    "    def build_generator(self):\n",
    "        \"Generator architecture\"\n",
    "        model = Sequential()\n",
    "        model.add(Dense(64, input_dim=self.latent_dim)) #32 - 64 - 128\n",
    "        model.add(LeakyReLU(alpha=0.2)) #alpha=0.2\n",
    "        model.add(BatchNormalization(momentum=0.9))\n",
    "        model.add(Dense(128))\n",
    "        model.add(LeakyReLU(alpha=0.2))\n",
    "        model.add(BatchNormalization(momentum=0.9))\n",
    "        model.add(Dense(256))\n",
    "        model.add(LeakyReLU(alpha=0.2))\n",
    "        model.add(BatchNormalization(momentum=0.9))\n",
    "        model.add(Dense(np.prod(self.img_shape), activation='tanh'))\n",
    "        model.add(Reshape(self.img_shape))\n",
    "        model.summary()\n",
    "        noise = Input(shape=(self.latent_dim,))\n",
    "        img = model(noise)\n",
    "        \n",
    "        return Model(noise, img)\n",
    "        \n",
    "    def build_discriminator(self):\n",
    "        \"Discriminator architecture\"\n",
    "        model = Sequential()\n",
    "        model.add(Flatten(input_shape=self.img_shape)) #512 - 256\n",
    "        model.add(Dense(1024))\n",
    "        model.add(LeakyReLU(alpha=0.2)) # alpha = 0.2\n",
    "        model.add(Dense(512))\n",
    "        model.add(LeakyReLU(alpha=0.2))\n",
    "        model.add(Dense(1, activation='sigmoid'))\n",
    "        model.summary()\n",
    "        img = Input(shape=self.img_shape)\n",
    "        validity = model(img)\n",
    "        \n",
    "        return Model(img, validity)\n",
    "    \n",
    "    def train(self, epochs, batch_size=128, sample_interval=50):              \n",
    "        X_train, _ = load_fashion_mnist(28,28)\n",
    "        X_train = (X_train - 127.5) / 127.5                                 # Normalize images in the range[-1,1]\n",
    "        X_train = np.expand_dims(X_train, axis=3)        \n",
    "    \n",
    "        valid = np.ones((batch_size, 1))\n",
    "        fake = np.zeros((batch_size, 1))\n",
    "        \n",
    "        GLOSS = np.zeros(epochs)\n",
    "        DLOSS = np.zeros(epochs)\n",
    "        \n",
    "        files = []\n",
    "        print(\"Epoch progress:\")\n",
    "        progbar = tf.keras.utils.Progbar(epochs-1)                          # progress bar\n",
    "        \n",
    "        for epoch in range(epochs):    \n",
    "            idx = np.random.randint(0, X_train.shape[0], batch_size)\n",
    "            imgs = X_train[idx]    \n",
    "            noise = np.random.normal(0, 1, (batch_size, self.latent_dim))   # generate random noise   \n",
    "            gen_imgs = self.generator.predict(noise)                        # pass noise through generator\n",
    "                                                                            # to generate images\n",
    "\n",
    "            d_loss_real = self.discriminator.train_on_batch(imgs, valid)    # train discriminator on real images\n",
    "            d_loss_fake = self.discriminator.train_on_batch(gen_imgs, fake) # train discriminator on fake images\n",
    "            d_loss = 0.5 * np.add(d_loss_real, d_loss_fake)                 # combine discriminator losses\n",
    "            \n",
    "            DLOSS[epoch] = d_loss[0]                                        # discriminator loss over each epoch\n",
    "            \n",
    "            noise = np.random.normal(0, 1, (batch_size, self.latent_dim))\n",
    "            g_loss = self.combined.train_on_batch(noise, valid)             # train generator\n",
    "            GLOSS[epoch] = g_loss                                           # generator loss over each epoch\n",
    "\n",
    "            if epoch % sample_interval == 0:\n",
    "                #print(' Epoch ', epoch)\n",
    "                f = self.sample_images(epoch)\n",
    "                files.append(f)\n",
    "            \n",
    "            progbar.update(epoch)                                           # update progress bar\n",
    "            \n",
    "        plt.close(\"all\")\n",
    "        save_gif_PIL(\"vangan_0.gif\", files, fps=10, loop=0) # save gif\n",
    "\n",
    "        return GLOSS, DLOSS\n",
    "        \n",
    "    def sample_images(self, epoch):\n",
    "        np.random.seed(seed=42)\n",
    "        r, c = 4, 4 # rows and columns for the subplots\n",
    "        noise = np.random.normal(0, 1, (r * c, self.latent_dim))\n",
    "        gen_imgs = self.generator.predict(noise)        \n",
    "        gen_imgs = 0.5 * gen_imgs + 0.5\n",
    "        fig, axs = plt.subplots(r, c)\n",
    "        cnt = 0\n",
    "        for i in range(r):\n",
    "            for j in range(c):\n",
    "                axs[i,j].imshow(gen_imgs[cnt, :,:,0], cmap='gray')\n",
    "                axs[i,j].axis('off')\n",
    "                cnt += 1\n",
    "        file = \"images/\"+str(epoch)+\".png\"\n",
    "        plt.text(-90,47,\"(vanilla) GANs - epoch: %i\"%(epoch),fontsize=\"large\",color=\"k\")\n",
    "        fig.savefig(file)\n",
    "        #plt.show()\n",
    "        plt.close(\"all\")\n",
    "        \n",
    "        return file"
   ]
  },
  {
   "cell_type": "code",
   "execution_count": 19,
   "metadata": {
    "scrolled": false
   },
   "outputs": [
    {
     "name": "stdout",
     "output_type": "stream",
     "text": [
      "Model: \"sequential_3\"\n",
      "_________________________________________________________________\n",
      "Layer (type)                 Output Shape              Param #   \n",
      "=================================================================\n",
      "flatten_2 (Flatten)          (None, 784)               0         \n",
      "_________________________________________________________________\n",
      "dense_8 (Dense)              (None, 1024)              803840    \n",
      "_________________________________________________________________\n",
      "leaky_re_lu_6 (LeakyReLU)    (None, 1024)              0         \n",
      "_________________________________________________________________\n",
      "dense_9 (Dense)              (None, 512)               524800    \n",
      "_________________________________________________________________\n",
      "leaky_re_lu_7 (LeakyReLU)    (None, 512)               0         \n",
      "_________________________________________________________________\n",
      "dense_10 (Dense)             (None, 1)                 513       \n",
      "=================================================================\n",
      "Total params: 1,329,153\n",
      "Trainable params: 1,329,153\n",
      "Non-trainable params: 0\n",
      "_________________________________________________________________\n",
      "Model: \"sequential_4\"\n",
      "_________________________________________________________________\n",
      "Layer (type)                 Output Shape              Param #   \n",
      "=================================================================\n",
      "dense_11 (Dense)             (None, 64)                6464      \n",
      "_________________________________________________________________\n",
      "leaky_re_lu_8 (LeakyReLU)    (None, 64)                0         \n",
      "_________________________________________________________________\n",
      "batch_normalization_4 (Batch (None, 64)                256       \n",
      "_________________________________________________________________\n",
      "dense_12 (Dense)             (None, 128)               8320      \n",
      "_________________________________________________________________\n",
      "leaky_re_lu_9 (LeakyReLU)    (None, 128)               0         \n",
      "_________________________________________________________________\n",
      "batch_normalization_5 (Batch (None, 128)               512       \n",
      "_________________________________________________________________\n",
      "dense_13 (Dense)             (None, 256)               33024     \n",
      "_________________________________________________________________\n",
      "leaky_re_lu_10 (LeakyReLU)   (None, 256)               0         \n",
      "_________________________________________________________________\n",
      "batch_normalization_6 (Batch (None, 256)               1024      \n",
      "_________________________________________________________________\n",
      "dense_14 (Dense)             (None, 784)               201488    \n",
      "_________________________________________________________________\n",
      "reshape_2 (Reshape)          (None, 28, 28, 1)         0         \n",
      "=================================================================\n",
      "Total params: 251,088\n",
      "Trainable params: 250,192\n",
      "Non-trainable params: 896\n",
      "_________________________________________________________________\n",
      "Epoch progress:\n",
      "3000/3000 [==============================] - 108s 36ms/step\n"
     ]
    },
    {
     "data": {
      "image/png": "[encoded data removed]",
      "text/plain": [
       "<Figure size 432x288 with 1 Axes>"
      ]
     },
     "metadata": {
      "needs_background": "light"
     },
     "output_type": "display_data"
    }
   ],
   "source": [
    "gan = GAN()\n",
    "GLOSS, DLOSS = gan.train(epochs=3001, batch_size=16, sample_interval=200)\n",
    "plot_gan_losses(GLOSS, DLOSS)"
   ]
  },
  {
   "cell_type": "markdown",
   "metadata": {},
   "source": [
    "![SegmentLocal](vangan_0.gif \"gif\")"
   ]
  },
  {
   "cell_type": "markdown",
   "metadata": {},
   "source": [
    "#### Compare generated image to closest original samples"
   ]
  },
  {
   "cell_type": "code",
   "execution_count": 5,
   "metadata": {},
   "outputs": [],
   "source": [
    "def plot_n_closest(img_smp, id_label_sample, X_train, N_closest, fig_size=(8, 3)):\n",
    "    \n",
    "    idx_lab = np.where(y_train==id_label_sample)                    # index of images that belong to id_label_sample\n",
    "    X_lab = (X_train[idx_lab, :, :].astype(np.float32) / 255)[0, :, :, :]  # images of the id_label_sample class\n",
    "\n",
    "    #apply the norm between X_lab and the sampled image across all images\n",
    "    L1_dis = np.sum(np.apply_along_axis(np.linalg.norm, -1, X_lab - img_smp, ord=1), axis=1) # Manhattan distance\n",
    "\n",
    "    idx_l1_sort = L1_dis.argsort() # sort to find N closest images\n",
    "    fig, axs = plt.subplots(1, N_closest, figsize=fig_size)\n",
    "    plt.text(-78,-5,'Closest original samples')\n",
    "    \n",
    "    for i in range(N_closest):\n",
    "        axs[i].imshow(X_lab[idx_l1_sort[i], :, :], cmap='gray')\n",
    "        axs[i].axis('off')\n",
    "    plt.show()"
   ]
  },
  {
   "cell_type": "code",
   "execution_count": 18,
   "metadata": {},
   "outputs": [
    {
     "data": {
      "image/png": "[encoded data removed]",
      "text/plain": [
       "<Figure size 432x288 with 1 Axes>"
      ]
     },
     "metadata": {
      "needs_background": "light"
     },
     "output_type": "display_data"
    },
    {
     "data": {
      "image/png": "[encoded data removed]",
      "text/plain": [
       "<Figure size 576x576 with 5 Axes>"
      ]
     },
     "metadata": {
      "needs_background": "light"
     },
     "output_type": "display_data"
    }
   ],
   "source": [
    "id_label_sample = 7\n",
    "\n",
    "epsilon_smp = np.random.normal(0, 1, (1, 100))           # another sample noise\n",
    "img_smp = gan.generator.predict(epsilon_smp)[0, :, :, 0] # generate image\n",
    "img_smp = img_smp * 0.5 + 0.5                            # normalize to range[0,1]\n",
    "X_train, y_train = load_fashion_mnist(28,28)\n",
    "\n",
    "plt.imshow(img_smp, cmap='gray')                         # plot generated sample\n",
    "plt.title('Generated sample')\n",
    "plt.show()\n",
    "\n",
    "plot_n_closest(img_smp, id_label_sample, X_train, 5, fig_size=(8, 8)) # plot N closest original samples"
   ]
  }
 ],
 "metadata": {
  "kernelspec": {
   "display_name": "Python 3 (ipykernel)",
   "language": "python",
   "name": "python3"
  },
  "language_info": {
   "codemirror_mode": {
    "name": "ipython",
    "version": 3
   },
   "file_extension": ".py",
   "mimetype": "text/x-python",
   "name": "python",
   "nbconvert_exporter": "python",
   "pygments_lexer": "ipython3",
   "version": "3.7.13"
  }
 },
 "nbformat": 4,
 "nbformat_minor": 4
}
